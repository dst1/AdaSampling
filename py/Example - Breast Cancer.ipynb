{
 "cells": [
  {
   "cell_type": "code",
   "execution_count": 1,
   "metadata": {
    "ExecuteTime": {
     "end_time": "2018-12-25T17:59:20.825738Z",
     "start_time": "2018-12-25T17:59:20.272992Z"
    }
   },
   "outputs": [],
   "source": [
    "import numpy as np\n",
    "import pandas as pd\n",
    "from sklearn import datasets\n",
    "from sklearn.base import clone\n",
    "from sklearn.ensemble import RandomForestClassifier\n",
    "from sklearn.metrics import accuracy_score\n",
    "from sklearn.naive_bayes import GaussianNB\n",
    "from sklearn.svm import SVC\n",
    "from sklearn.linear_model import SGDClassifier\n",
    "from xgboost import XGBClassifier\n",
    "import warnings\n",
    "\n",
    "from AdaSample import AdaSample"
   ]
  },
  {
   "cell_type": "code",
   "execution_count": 2,
   "metadata": {
    "ExecuteTime": {
     "end_time": "2018-12-25T17:59:20.837853Z",
     "start_time": "2018-12-25T17:59:20.827235Z"
    }
   },
   "outputs": [],
   "source": [
    "HideFrac = 0.8\n",
    "TrainFrac = 0.6\n",
    "SampFrac = 1.0 #Subsampling of training data when preforming Adasampling\n",
    "\n",
    "dat = datasets.load_breast_cancer()\n",
    "X = dat['data']\n",
    "y = dat['target']\n",
    "N = X.shape[0]"
   ]
  },
  {
   "cell_type": "code",
   "execution_count": 3,
   "metadata": {
    "ExecuteTime": {
     "end_time": "2018-12-25T17:59:20.846304Z",
     "start_time": "2018-12-25T17:59:20.839283Z"
    }
   },
   "outputs": [],
   "source": [
    "y_PU = np.copy(y)\n",
    "Ps = np.where(y_PU == 1)[0]\n",
    "y_PU[np.random.choice(Ps, int(np.floor(len(Ps) * HideFrac)))] = 0\n",
    "\n",
    "inds = np.random.permutation(X.shape[0])\n",
    "train_inds, test_inds = inds[:int(N * TrainFrac)], inds[int(N * TrainFrac):]\n",
    "\n",
    "X_train, X_test = X[train_inds, :], X[test_inds, :]\n",
    "y_train, y_test = y[train_inds], y[test_inds]\n",
    "y_PU_train, y_PU_test = y_PU[train_inds], y_PU[test_inds]"
   ]
  },
  {
   "cell_type": "code",
   "execution_count": 4,
   "metadata": {
    "ExecuteTime": {
     "end_time": "2018-12-25T17:59:25.380838Z",
     "start_time": "2018-12-25T17:59:20.847900Z"
    }
   },
   "outputs": [
    {
     "name": "stderr",
     "output_type": "stream",
     "text": [
      "100%|██████████| 25/25 [00:00<00:00, 369.92it/s]\n",
      "100%|██████████| 10/10 [00:00<00:00, 578.41it/s]\n",
      "  0%|          | 0/25 [00:00<?, ?it/s]"
     ]
    },
    {
     "name": "stdout",
     "output_type": "stream",
     "text": [
      "SGD_lasso\n",
      "Training AdaSamples..\n",
      "Training 10 Classifiers\n",
      "RF\n",
      "Training AdaSamples..\n"
     ]
    },
    {
     "name": "stderr",
     "output_type": "stream",
     "text": [
      "100%|██████████| 25/25 [00:00<00:00, 61.39it/s]\n",
      "100%|██████████| 10/10 [00:00<00:00, 62.31it/s]\n"
     ]
    },
    {
     "name": "stdout",
     "output_type": "stream",
     "text": [
      "Training 10 Classifiers\n"
     ]
    },
    {
     "name": "stderr",
     "output_type": "stream",
     "text": [
      " 12%|█▏        | 3/25 [00:00<00:00, 24.30it/s]"
     ]
    },
    {
     "name": "stdout",
     "output_type": "stream",
     "text": [
      "SVM\n",
      "Training AdaSamples..\n"
     ]
    },
    {
     "name": "stderr",
     "output_type": "stream",
     "text": [
      "100%|██████████| 25/25 [00:01<00:00, 25.00it/s]\n",
      " 30%|███       | 3/10 [00:00<00:00, 20.37it/s]"
     ]
    },
    {
     "name": "stdout",
     "output_type": "stream",
     "text": [
      "Training 10 Classifiers\n"
     ]
    },
    {
     "name": "stderr",
     "output_type": "stream",
     "text": [
      "100%|██████████| 10/10 [00:00<00:00, 20.86it/s]\n",
      "  8%|▊         | 2/25 [00:00<00:01, 17.04it/s]"
     ]
    },
    {
     "name": "stdout",
     "output_type": "stream",
     "text": [
      "XGB\n",
      "Training AdaSamples..\n"
     ]
    },
    {
     "name": "stderr",
     "output_type": "stream",
     "text": [
      "100%|██████████| 25/25 [00:01<00:00, 17.62it/s]\n",
      " 20%|██        | 2/10 [00:00<00:00, 16.45it/s]"
     ]
    },
    {
     "name": "stdout",
     "output_type": "stream",
     "text": [
      "Training 10 Classifiers\n"
     ]
    },
    {
     "name": "stderr",
     "output_type": "stream",
     "text": [
      "100%|██████████| 10/10 [00:00<00:00, 16.24it/s]\n",
      "100%|██████████| 25/25 [00:00<00:00, 879.11it/s]\n",
      "100%|██████████| 10/10 [00:00<00:00, 1080.95it/s]"
     ]
    },
    {
     "name": "stdout",
     "output_type": "stream",
     "text": [
      "NB\n",
      "Training AdaSamples..\n",
      "Training 10 Classifiers\n"
     ]
    },
    {
     "name": "stderr",
     "output_type": "stream",
     "text": [
      "\n"
     ]
    },
    {
     "data": {
      "text/html": [
       "<div>\n",
       "<style scoped>\n",
       "    .dataframe tbody tr th:only-of-type {\n",
       "        vertical-align: middle;\n",
       "    }\n",
       "\n",
       "    .dataframe tbody tr th {\n",
       "        vertical-align: top;\n",
       "    }\n",
       "\n",
       "    .dataframe thead th {\n",
       "        text-align: right;\n",
       "    }\n",
       "</style>\n",
       "<table border=\"1\" class=\"dataframe\">\n",
       "  <thead>\n",
       "    <tr style=\"text-align: right;\">\n",
       "      <th></th>\n",
       "      <th>SGD_lasso</th>\n",
       "      <th>RF</th>\n",
       "      <th>SVM</th>\n",
       "      <th>XGB</th>\n",
       "      <th>NB</th>\n",
       "    </tr>\n",
       "  </thead>\n",
       "  <tbody>\n",
       "    <tr>\n",
       "      <th>Naive_clf</th>\n",
       "      <td>0.929825</td>\n",
       "      <td>0.960526</td>\n",
       "      <td>0.587719</td>\n",
       "      <td>0.960526</td>\n",
       "      <td>0.947368</td>\n",
       "    </tr>\n",
       "    <tr>\n",
       "      <th>PU_ensemble</th>\n",
       "      <td>0.916667</td>\n",
       "      <td>0.802632</td>\n",
       "      <td>0.421053</td>\n",
       "      <td>0.842105</td>\n",
       "      <td>0.951754</td>\n",
       "    </tr>\n",
       "    <tr>\n",
       "      <th>PU_single</th>\n",
       "      <td>0.837719</td>\n",
       "      <td>0.750000</td>\n",
       "      <td>0.421053</td>\n",
       "      <td>0.850877</td>\n",
       "      <td>0.951754</td>\n",
       "    </tr>\n",
       "    <tr>\n",
       "      <th>uNeg_clf</th>\n",
       "      <td>0.719298</td>\n",
       "      <td>0.600877</td>\n",
       "      <td>0.416667</td>\n",
       "      <td>0.627193</td>\n",
       "      <td>0.947368</td>\n",
       "    </tr>\n",
       "  </tbody>\n",
       "</table>\n",
       "</div>"
      ],
      "text/plain": [
       "             SGD_lasso        RF       SVM       XGB        NB\n",
       "Naive_clf     0.929825  0.960526  0.587719  0.960526  0.947368\n",
       "PU_ensemble   0.916667  0.802632  0.421053  0.842105  0.951754\n",
       "PU_single     0.837719  0.750000  0.421053  0.850877  0.951754\n",
       "uNeg_clf      0.719298  0.600877  0.416667  0.627193  0.947368"
      ]
     },
     "execution_count": 4,
     "metadata": {},
     "output_type": "execute_result"
    }
   ],
   "source": [
    "clf_res = {}\n",
    "with warnings.catch_warnings():\n",
    "    warnings.simplefilter(\"ignore\")\n",
    "    for name, clf in [(\"SGD_lasso\", SGDClassifier(loss=\"log\", penalty=\"l1\")),\n",
    "                      (\"RF\", RandomForestClassifier()),\n",
    "                      (\"SVM\", SVC(probability=True)),\n",
    "                      (\"XGB\", XGBClassifier()),\n",
    "                      (\"NB\", GaussianNB())]:\n",
    "        print(name)\n",
    "        clf_res[name] = {}\n",
    "        ada = AdaSample(clone(clf))\n",
    "        ada.fit(X_train, y_PU_train, C=10, samp_frac=SampFrac)\n",
    "        probas = ada.predict_proba(X_test, single=True)[:, 1]\n",
    "        clf_res[name][\"PU_single\"] = accuracy_score(y_test, (probas > 0.5).astype(np.int))\n",
    "\n",
    "        probas = ada.predict_proba(X_test)[:, 1]\n",
    "        clf_res[name][\"PU_ensemble\"] = accuracy_score(y_test, (probas > 0.5).astype(np.int))\n",
    "\n",
    "        naive_clf = clone(clf)\n",
    "        naive_clf.fit(X_train, y_train)\n",
    "        clf_res[name][\"Naive_clf\"] = naive_clf.score(X_test, y_test)\n",
    "\n",
    "        uNeg_clf = clone(clf)\n",
    "        uNeg_clf.fit(X_train, y_PU_train)\n",
    "        clf_res[name][\"uNeg_clf\"] = uNeg_clf.score(X_test, y_test)\n",
    "pd.DataFrame.from_dict(clf_res)"
   ]
  },
  {
   "cell_type": "code",
   "execution_count": 5,
   "metadata": {
    "ExecuteTime": {
     "end_time": "2018-12-25T17:59:25.385933Z",
     "start_time": "2018-12-25T17:59:25.382334Z"
    }
   },
   "outputs": [],
   "source": [
    "HideFrac = 0.2\n",
    "\n",
    "y_PU = np.copy(y)\n",
    "Ps = np.where(y_PU == 1)[0]\n",
    "y_PU[np.random.choice(Ps, int(np.floor(len(Ps) * HideFrac)))] = 0\n",
    "\n",
    "inds = np.random.permutation(X.shape[0])\n",
    "train_inds, test_inds = inds[:int(N * TrainFrac)], inds[int(N * TrainFrac):]\n",
    "\n",
    "X_train, X_test = X[train_inds, :], X[test_inds, :]\n",
    "y_train, y_test = y[train_inds], y[test_inds]\n",
    "y_PU_train, y_PU_test = y_PU[train_inds], y_PU[test_inds]"
   ]
  },
  {
   "cell_type": "code",
   "execution_count": 6,
   "metadata": {
    "ExecuteTime": {
     "end_time": "2018-12-25T17:59:28.668247Z",
     "start_time": "2018-12-25T17:59:25.387278Z"
    }
   },
   "outputs": [
    {
     "name": "stderr",
     "output_type": "stream",
     "text": [
      "100%|██████████| 25/25 [00:00<00:00, 505.29it/s]\n",
      "100%|██████████| 10/10 [00:00<00:00, 665.92it/s]\n",
      "  0%|          | 0/25 [00:00<?, ?it/s]"
     ]
    },
    {
     "name": "stdout",
     "output_type": "stream",
     "text": [
      "SGD_lasso\n",
      "Training AdaSamples..\n",
      "Training 10 Classifiers\n",
      "RF\n",
      "Training AdaSamples..\n"
     ]
    },
    {
     "name": "stderr",
     "output_type": "stream",
     "text": [
      "100%|██████████| 25/25 [00:00<00:00, 73.98it/s]\n",
      "100%|██████████| 10/10 [00:00<00:00, 57.22it/s]\n"
     ]
    },
    {
     "name": "stdout",
     "output_type": "stream",
     "text": [
      "Training 10 Classifiers\n"
     ]
    },
    {
     "name": "stderr",
     "output_type": "stream",
     "text": [
      " 16%|█▌        | 4/25 [00:00<00:00, 33.27it/s]"
     ]
    },
    {
     "name": "stdout",
     "output_type": "stream",
     "text": [
      "SVM\n",
      "Training AdaSamples..\n"
     ]
    },
    {
     "name": "stderr",
     "output_type": "stream",
     "text": [
      "100%|██████████| 25/25 [00:00<00:00, 34.87it/s]\n",
      " 40%|████      | 4/10 [00:00<00:00, 35.39it/s]"
     ]
    },
    {
     "name": "stdout",
     "output_type": "stream",
     "text": [
      "Training 10 Classifiers\n"
     ]
    },
    {
     "name": "stderr",
     "output_type": "stream",
     "text": [
      "100%|██████████| 10/10 [00:00<00:00, 35.75it/s]\n",
      " 12%|█▏        | 3/25 [00:00<00:01, 20.82it/s]"
     ]
    },
    {
     "name": "stdout",
     "output_type": "stream",
     "text": [
      "XGB\n",
      "Training AdaSamples..\n"
     ]
    },
    {
     "name": "stderr",
     "output_type": "stream",
     "text": [
      "100%|██████████| 25/25 [00:00<00:00, 26.68it/s]\n",
      " 30%|███       | 3/10 [00:00<00:00, 24.01it/s]"
     ]
    },
    {
     "name": "stdout",
     "output_type": "stream",
     "text": [
      "Training 10 Classifiers\n"
     ]
    },
    {
     "name": "stderr",
     "output_type": "stream",
     "text": [
      "100%|██████████| 10/10 [00:00<00:00, 24.27it/s]\n",
      "100%|██████████| 25/25 [00:00<00:00, 898.11it/s]\n",
      "100%|██████████| 10/10 [00:00<00:00, 1045.70it/s]"
     ]
    },
    {
     "name": "stdout",
     "output_type": "stream",
     "text": [
      "NB\n",
      "Training AdaSamples..\n",
      "Training 10 Classifiers\n"
     ]
    },
    {
     "name": "stderr",
     "output_type": "stream",
     "text": [
      "\n"
     ]
    },
    {
     "data": {
      "text/html": [
       "<div>\n",
       "<style scoped>\n",
       "    .dataframe tbody tr th:only-of-type {\n",
       "        vertical-align: middle;\n",
       "    }\n",
       "\n",
       "    .dataframe tbody tr th {\n",
       "        vertical-align: top;\n",
       "    }\n",
       "\n",
       "    .dataframe thead th {\n",
       "        text-align: right;\n",
       "    }\n",
       "</style>\n",
       "<table border=\"1\" class=\"dataframe\">\n",
       "  <thead>\n",
       "    <tr style=\"text-align: right;\">\n",
       "      <th></th>\n",
       "      <th>SGD_lasso</th>\n",
       "      <th>RF</th>\n",
       "      <th>SVM</th>\n",
       "      <th>XGB</th>\n",
       "      <th>NB</th>\n",
       "    </tr>\n",
       "  </thead>\n",
       "  <tbody>\n",
       "    <tr>\n",
       "      <th>Naive_clf</th>\n",
       "      <td>0.925439</td>\n",
       "      <td>0.978070</td>\n",
       "      <td>0.614035</td>\n",
       "      <td>0.969298</td>\n",
       "      <td>0.95614</td>\n",
       "    </tr>\n",
       "    <tr>\n",
       "      <th>PU_ensemble</th>\n",
       "      <td>0.850877</td>\n",
       "      <td>0.907895</td>\n",
       "      <td>0.578947</td>\n",
       "      <td>0.929825</td>\n",
       "      <td>0.95614</td>\n",
       "    </tr>\n",
       "    <tr>\n",
       "      <th>PU_single</th>\n",
       "      <td>0.855263</td>\n",
       "      <td>0.885965</td>\n",
       "      <td>0.469298</td>\n",
       "      <td>0.934211</td>\n",
       "      <td>0.95614</td>\n",
       "    </tr>\n",
       "    <tr>\n",
       "      <th>uNeg_clf</th>\n",
       "      <td>0.425439</td>\n",
       "      <td>0.916667</td>\n",
       "      <td>0.596491</td>\n",
       "      <td>0.907895</td>\n",
       "      <td>0.95614</td>\n",
       "    </tr>\n",
       "  </tbody>\n",
       "</table>\n",
       "</div>"
      ],
      "text/plain": [
       "             SGD_lasso        RF       SVM       XGB       NB\n",
       "Naive_clf     0.925439  0.978070  0.614035  0.969298  0.95614\n",
       "PU_ensemble   0.850877  0.907895  0.578947  0.929825  0.95614\n",
       "PU_single     0.855263  0.885965  0.469298  0.934211  0.95614\n",
       "uNeg_clf      0.425439  0.916667  0.596491  0.907895  0.95614"
      ]
     },
     "execution_count": 6,
     "metadata": {},
     "output_type": "execute_result"
    }
   ],
   "source": [
    "clf_res = {}\n",
    "with warnings.catch_warnings():\n",
    "    warnings.simplefilter(\"ignore\")\n",
    "    for name, clf in [(\"SGD_lasso\", SGDClassifier(loss=\"log\", penalty=\"l1\")),\n",
    "                      (\"RF\", RandomForestClassifier()),\n",
    "                      (\"SVM\", SVC(probability=True)),\n",
    "                      (\"XGB\", XGBClassifier()),\n",
    "                      (\"NB\", GaussianNB())]:\n",
    "        print(name)\n",
    "        clf_res[name] = {}\n",
    "        ada = AdaSample(clone(clf))\n",
    "        ada.fit(X_train, y_PU_train, C=10, samp_frac=SampFrac)\n",
    "        probas = ada.predict_proba(X_test, single=True)[:, 1]\n",
    "        clf_res[name][\"PU_single\"] = accuracy_score(y_test, (probas > 0.5).astype(np.int))\n",
    "\n",
    "        probas = ada.predict_proba(X_test)[:, 1]\n",
    "        clf_res[name][\"PU_ensemble\"] = accuracy_score(y_test, (probas > 0.5).astype(np.int))\n",
    "\n",
    "        naive_clf = clone(clf)\n",
    "        naive_clf.fit(X_train, y_train)\n",
    "        clf_res[name][\"Naive_clf\"] = naive_clf.score(X_test, y_test)\n",
    "\n",
    "        uNeg_clf = clone(clf)\n",
    "        uNeg_clf.fit(X_train, y_PU_train)\n",
    "        clf_res[name][\"uNeg_clf\"] = uNeg_clf.score(X_test, y_test)\n",
    "pd.DataFrame.from_dict(clf_res)"
   ]
  }
 ],
 "metadata": {
  "kernelspec": {
   "display_name": "Python 3",
   "language": "python",
   "name": "python3"
  },
  "language_info": {
   "codemirror_mode": {
    "name": "ipython",
    "version": 3
   },
   "file_extension": ".py",
   "mimetype": "text/x-python",
   "name": "python",
   "nbconvert_exporter": "python",
   "pygments_lexer": "ipython3",
   "version": "3.6.7"
  },
  "toc": {
   "base_numbering": 1,
   "nav_menu": {},
   "number_sections": true,
   "sideBar": true,
   "skip_h1_title": false,
   "title_cell": "Table of Contents",
   "title_sidebar": "Contents",
   "toc_cell": false,
   "toc_position": {},
   "toc_section_display": true,
   "toc_window_display": false
  },
  "varInspector": {
   "cols": {
    "lenName": 16,
    "lenType": 16,
    "lenVar": 40
   },
   "kernels_config": {
    "python": {
     "delete_cmd_postfix": "",
     "delete_cmd_prefix": "del ",
     "library": "var_list.py",
     "varRefreshCmd": "print(var_dic_list())"
    },
    "r": {
     "delete_cmd_postfix": ") ",
     "delete_cmd_prefix": "rm(",
     "library": "var_list.r",
     "varRefreshCmd": "cat(var_dic_list()) "
    }
   },
   "types_to_exclude": [
    "module",
    "function",
    "builtin_function_or_method",
    "instance",
    "_Feature"
   ],
   "window_display": false
  }
 },
 "nbformat": 4,
 "nbformat_minor": 2
}

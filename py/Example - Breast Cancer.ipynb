{
 "cells": [
  {
   "cell_type": "code",
   "execution_count": 1,
   "metadata": {
    "ExecuteTime": {
     "end_time": "2018-12-25T18:47:21.718021Z",
     "start_time": "2018-12-25T18:47:21.179540Z"
    }
   },
   "outputs": [],
   "source": [
    "import numpy as np\n",
    "import pandas as pd\n",
    "from sklearn import datasets\n",
    "from sklearn.base import clone\n",
    "from sklearn.ensemble import RandomForestClassifier\n",
    "from sklearn.metrics import accuracy_score\n",
    "from sklearn.naive_bayes import GaussianNB\n",
    "from sklearn.svm import SVC\n",
    "from sklearn.linear_model import SGDClassifier\n",
    "from xgboost import XGBClassifier\n",
    "import warnings\n",
    "\n",
    "from AdaSample import AdaSample"
   ]
  },
  {
   "cell_type": "code",
   "execution_count": 2,
   "metadata": {
    "ExecuteTime": {
     "end_time": "2018-12-25T18:47:21.732361Z",
     "start_time": "2018-12-25T18:47:21.719586Z"
    }
   },
   "outputs": [],
   "source": [
    "HideFrac = 0.8\n",
    "TrainFrac = 0.6\n",
    "SampFrac = 1.0 #Subsampling of training data when preforming Adasampling\n",
    "\n",
    "dat = datasets.load_breast_cancer()\n",
    "X = dat['data']\n",
    "y = dat['target']\n",
    "N = X.shape[0]"
   ]
  },
  {
   "cell_type": "code",
   "execution_count": 3,
   "metadata": {
    "ExecuteTime": {
     "end_time": "2018-12-25T18:47:21.740743Z",
     "start_time": "2018-12-25T18:47:21.734181Z"
    }
   },
   "outputs": [],
   "source": [
    "y_PU = np.copy(y)\n",
    "Ps = np.where(y_PU == 1)[0]\n",
    "y_PU[np.random.choice(Ps, int(np.floor(len(Ps) * HideFrac)))] = 0\n",
    "\n",
    "inds = np.random.permutation(X.shape[0])\n",
    "train_inds, test_inds = inds[:int(N * TrainFrac)], inds[int(N * TrainFrac):]\n",
    "\n",
    "X_train, X_test = X[train_inds, :], X[test_inds, :]\n",
    "y_train, y_test = y[train_inds], y[test_inds]\n",
    "y_PU_train, y_PU_test = y_PU[train_inds], y_PU[test_inds]"
   ]
  },
  {
   "cell_type": "code",
   "execution_count": 4,
   "metadata": {
    "ExecuteTime": {
     "end_time": "2018-12-25T18:47:27.768538Z",
     "start_time": "2018-12-25T18:47:21.742341Z"
    }
   },
   "outputs": [
    {
     "name": "stderr",
     "output_type": "stream",
     "text": [
      "100%|██████████| 25/25 [00:00<00:00, 538.12it/s]\n",
      "100%|██████████| 10/10 [00:00<00:00, 624.89it/s]\n",
      " 24%|██▍       | 6/25 [00:00<00:00, 53.22it/s]"
     ]
    },
    {
     "name": "stdout",
     "output_type": "stream",
     "text": [
      "SGD_lasso\n",
      "Training AdaSamples..\n",
      "Training 10 Classifiers\n",
      "RF\n",
      "Training AdaSamples..\n"
     ]
    },
    {
     "name": "stderr",
     "output_type": "stream",
     "text": [
      "100%|██████████| 25/25 [00:00<00:00, 50.72it/s]\n",
      "100%|██████████| 10/10 [00:00<00:00, 51.44it/s]\n"
     ]
    },
    {
     "name": "stdout",
     "output_type": "stream",
     "text": [
      "Training 10 Classifiers\n"
     ]
    },
    {
     "name": "stderr",
     "output_type": "stream",
     "text": [
      "  8%|▊         | 2/25 [00:00<00:01, 15.61it/s]"
     ]
    },
    {
     "name": "stdout",
     "output_type": "stream",
     "text": [
      "SVM\n",
      "Training AdaSamples..\n"
     ]
    },
    {
     "name": "stderr",
     "output_type": "stream",
     "text": [
      "100%|██████████| 25/25 [00:01<00:00, 15.81it/s]\n",
      " 20%|██        | 2/10 [00:00<00:00, 17.85it/s]"
     ]
    },
    {
     "name": "stdout",
     "output_type": "stream",
     "text": [
      "Training 10 Classifiers\n"
     ]
    },
    {
     "name": "stderr",
     "output_type": "stream",
     "text": [
      "100%|██████████| 10/10 [00:00<00:00, 17.90it/s]\n",
      "  8%|▊         | 2/25 [00:00<00:01, 12.51it/s]"
     ]
    },
    {
     "name": "stdout",
     "output_type": "stream",
     "text": [
      "XGB\n",
      "Training AdaSamples..\n"
     ]
    },
    {
     "name": "stderr",
     "output_type": "stream",
     "text": [
      "100%|██████████| 25/25 [00:01<00:00, 12.80it/s]\n",
      " 20%|██        | 2/10 [00:00<00:00, 13.53it/s]"
     ]
    },
    {
     "name": "stdout",
     "output_type": "stream",
     "text": [
      "Training 10 Classifiers\n"
     ]
    },
    {
     "name": "stderr",
     "output_type": "stream",
     "text": [
      "100%|██████████| 10/10 [00:00<00:00, 13.19it/s]\n",
      "100%|██████████| 25/25 [00:00<00:00, 705.12it/s]\n",
      "100%|██████████| 10/10 [00:00<00:00, 902.56it/s]\n"
     ]
    },
    {
     "name": "stdout",
     "output_type": "stream",
     "text": [
      "NB\n",
      "Training AdaSamples..\n",
      "Training 10 Classifiers\n"
     ]
    },
    {
     "data": {
      "text/html": [
       "<div>\n",
       "<style scoped>\n",
       "    .dataframe tbody tr th:only-of-type {\n",
       "        vertical-align: middle;\n",
       "    }\n",
       "\n",
       "    .dataframe tbody tr th {\n",
       "        vertical-align: top;\n",
       "    }\n",
       "\n",
       "    .dataframe thead th {\n",
       "        text-align: right;\n",
       "    }\n",
       "</style>\n",
       "<table border=\"1\" class=\"dataframe\">\n",
       "  <thead>\n",
       "    <tr style=\"text-align: right;\">\n",
       "      <th></th>\n",
       "      <th>SGD_lasso</th>\n",
       "      <th>RF</th>\n",
       "      <th>SVM</th>\n",
       "      <th>XGB</th>\n",
       "      <th>NB</th>\n",
       "    </tr>\n",
       "  </thead>\n",
       "  <tbody>\n",
       "    <tr>\n",
       "      <th>AdaEnsemble</th>\n",
       "      <td>0.456140</td>\n",
       "      <td>0.763158</td>\n",
       "      <td>0.412281</td>\n",
       "      <td>0.798246</td>\n",
       "      <td>0.947368</td>\n",
       "    </tr>\n",
       "    <tr>\n",
       "      <th>AdaSingle</th>\n",
       "      <td>0.447368</td>\n",
       "      <td>0.723684</td>\n",
       "      <td>0.403509</td>\n",
       "      <td>0.815789</td>\n",
       "      <td>0.938596</td>\n",
       "    </tr>\n",
       "    <tr>\n",
       "      <th>Baseline</th>\n",
       "      <td>0.574561</td>\n",
       "      <td>0.539474</td>\n",
       "      <td>0.394737</td>\n",
       "      <td>0.570175</td>\n",
       "      <td>0.942982</td>\n",
       "    </tr>\n",
       "    <tr>\n",
       "      <th>Original</th>\n",
       "      <td>0.872807</td>\n",
       "      <td>0.960526</td>\n",
       "      <td>0.609649</td>\n",
       "      <td>0.973684</td>\n",
       "      <td>0.947368</td>\n",
       "    </tr>\n",
       "  </tbody>\n",
       "</table>\n",
       "</div>"
      ],
      "text/plain": [
       "             SGD_lasso        RF       SVM       XGB        NB\n",
       "AdaEnsemble   0.456140  0.763158  0.412281  0.798246  0.947368\n",
       "AdaSingle     0.447368  0.723684  0.403509  0.815789  0.938596\n",
       "Baseline      0.574561  0.539474  0.394737  0.570175  0.942982\n",
       "Original      0.872807  0.960526  0.609649  0.973684  0.947368"
      ]
     },
     "execution_count": 4,
     "metadata": {},
     "output_type": "execute_result"
    }
   ],
   "source": [
    "clf_res = {}\n",
    "with warnings.catch_warnings():\n",
    "    warnings.simplefilter(\"ignore\")\n",
    "    for name, clf in [(\"SGD_lasso\", SGDClassifier(loss=\"log\", penalty=\"l1\")),\n",
    "                      (\"RF\", RandomForestClassifier()),\n",
    "                      (\"SVM\", SVC(probability=True)),\n",
    "                      (\"XGB\", XGBClassifier()),\n",
    "                      (\"NB\", GaussianNB())]:\n",
    "        print(name)\n",
    "        clf_res[name] = {}\n",
    "        ada = AdaSample(clone(clf))\n",
    "        ada.fit(X_train, y_PU_train, C=10, sampleFactor=SampFrac)\n",
    "        probas = ada.predict_proba(X_test, single=True)[:, 1]\n",
    "        clf_res[name][\"AdaSingle\"] = accuracy_score(y_test, (probas > 0.5).astype(np.int))\n",
    "\n",
    "        probas = ada.predict_proba(X_test)[:, 1]\n",
    "        clf_res[name][\"AdaEnsemble\"] = accuracy_score(y_test, (probas > 0.5).astype(np.int))\n",
    "\n",
    "        naive_clf = clone(clf)\n",
    "        naive_clf.fit(X_train, y_train)\n",
    "        clf_res[name][\"Original\"] = naive_clf.score(X_test, y_test)\n",
    "\n",
    "        uNeg_clf = clone(clf)\n",
    "        uNeg_clf.fit(X_train, y_PU_train)\n",
    "        clf_res[name][\"Baseline\"] = uNeg_clf.score(X_test, y_test)\n",
    "pd.DataFrame.from_dict(clf_res)"
   ]
  },
  {
   "cell_type": "code",
   "execution_count": 5,
   "metadata": {
    "ExecuteTime": {
     "end_time": "2018-12-25T18:47:27.774286Z",
     "start_time": "2018-12-25T18:47:27.770227Z"
    }
   },
   "outputs": [],
   "source": [
    "HideFrac = 0.2\n",
    "\n",
    "y_PU = np.copy(y)\n",
    "Ps = np.where(y_PU == 1)[0]\n",
    "y_PU[np.random.choice(Ps, int(np.floor(len(Ps) * HideFrac)))] = 0\n",
    "\n",
    "inds = np.random.permutation(X.shape[0])\n",
    "train_inds, test_inds = inds[:int(N * TrainFrac)], inds[int(N * TrainFrac):]\n",
    "\n",
    "X_train, X_test = X[train_inds, :], X[test_inds, :]\n",
    "y_train, y_test = y[train_inds], y[test_inds]\n",
    "y_PU_train, y_PU_test = y_PU[train_inds], y_PU[test_inds]"
   ]
  },
  {
   "cell_type": "code",
   "execution_count": 6,
   "metadata": {
    "ExecuteTime": {
     "end_time": "2018-12-25T18:47:31.956799Z",
     "start_time": "2018-12-25T18:47:27.776542Z"
    }
   },
   "outputs": [
    {
     "name": "stderr",
     "output_type": "stream",
     "text": [
      "100%|██████████| 25/25 [00:00<00:00, 589.31it/s]\n",
      "100%|██████████| 10/10 [00:00<00:00, 586.09it/s]\n",
      "  0%|          | 0/25 [00:00<?, ?it/s]"
     ]
    },
    {
     "name": "stdout",
     "output_type": "stream",
     "text": [
      "SGD_lasso\n",
      "Training AdaSamples..\n",
      "Training 10 Classifiers\n",
      "RF\n",
      "Training AdaSamples..\n"
     ]
    },
    {
     "name": "stderr",
     "output_type": "stream",
     "text": [
      "100%|██████████| 25/25 [00:00<00:00, 62.87it/s]\n",
      "100%|██████████| 10/10 [00:00<00:00, 67.56it/s]\n",
      "  0%|          | 0/25 [00:00<?, ?it/s]"
     ]
    },
    {
     "name": "stdout",
     "output_type": "stream",
     "text": [
      "Training 10 Classifiers\n",
      "SVM\n",
      "Training AdaSamples..\n"
     ]
    },
    {
     "name": "stderr",
     "output_type": "stream",
     "text": [
      "100%|██████████| 25/25 [00:01<00:00, 24.07it/s]\n",
      " 30%|███       | 3/10 [00:00<00:00, 27.62it/s]"
     ]
    },
    {
     "name": "stdout",
     "output_type": "stream",
     "text": [
      "Training 10 Classifiers\n"
     ]
    },
    {
     "name": "stderr",
     "output_type": "stream",
     "text": [
      "100%|██████████| 10/10 [00:00<00:00, 25.33it/s]\n",
      "  8%|▊         | 2/25 [00:00<00:01, 14.67it/s]"
     ]
    },
    {
     "name": "stdout",
     "output_type": "stream",
     "text": [
      "XGB\n",
      "Training AdaSamples..\n"
     ]
    },
    {
     "name": "stderr",
     "output_type": "stream",
     "text": [
      "100%|██████████| 25/25 [00:01<00:00, 19.40it/s]\n",
      " 30%|███       | 3/10 [00:00<00:00, 20.62it/s]"
     ]
    },
    {
     "name": "stdout",
     "output_type": "stream",
     "text": [
      "Training 10 Classifiers\n"
     ]
    },
    {
     "name": "stderr",
     "output_type": "stream",
     "text": [
      "100%|██████████| 10/10 [00:00<00:00, 21.71it/s]\n",
      "100%|██████████| 25/25 [00:00<00:00, 784.62it/s]\n",
      "100%|██████████| 10/10 [00:00<00:00, 913.12it/s]"
     ]
    },
    {
     "name": "stdout",
     "output_type": "stream",
     "text": [
      "NB\n",
      "Training AdaSamples..\n",
      "Training 10 Classifiers\n"
     ]
    },
    {
     "name": "stderr",
     "output_type": "stream",
     "text": [
      "\n"
     ]
    },
    {
     "data": {
      "text/html": [
       "<div>\n",
       "<style scoped>\n",
       "    .dataframe tbody tr th:only-of-type {\n",
       "        vertical-align: middle;\n",
       "    }\n",
       "\n",
       "    .dataframe tbody tr th {\n",
       "        vertical-align: top;\n",
       "    }\n",
       "\n",
       "    .dataframe thead th {\n",
       "        text-align: right;\n",
       "    }\n",
       "</style>\n",
       "<table border=\"1\" class=\"dataframe\">\n",
       "  <thead>\n",
       "    <tr style=\"text-align: right;\">\n",
       "      <th></th>\n",
       "      <th>SGD_lasso</th>\n",
       "      <th>RF</th>\n",
       "      <th>SVM</th>\n",
       "      <th>XGB</th>\n",
       "      <th>NB</th>\n",
       "    </tr>\n",
       "  </thead>\n",
       "  <tbody>\n",
       "    <tr>\n",
       "      <th>AdaEnsemble</th>\n",
       "      <td>0.903509</td>\n",
       "      <td>0.956140</td>\n",
       "      <td>0.447368</td>\n",
       "      <td>0.925439</td>\n",
       "      <td>0.916667</td>\n",
       "    </tr>\n",
       "    <tr>\n",
       "      <th>AdaSingle</th>\n",
       "      <td>0.903509</td>\n",
       "      <td>0.938596</td>\n",
       "      <td>0.385965</td>\n",
       "      <td>0.929825</td>\n",
       "      <td>0.934211</td>\n",
       "    </tr>\n",
       "    <tr>\n",
       "      <th>Baseline</th>\n",
       "      <td>0.859649</td>\n",
       "      <td>0.894737</td>\n",
       "      <td>0.478070</td>\n",
       "      <td>0.929825</td>\n",
       "      <td>0.912281</td>\n",
       "    </tr>\n",
       "    <tr>\n",
       "      <th>Original</th>\n",
       "      <td>0.649123</td>\n",
       "      <td>0.969298</td>\n",
       "      <td>0.644737</td>\n",
       "      <td>0.947368</td>\n",
       "      <td>0.938596</td>\n",
       "    </tr>\n",
       "  </tbody>\n",
       "</table>\n",
       "</div>"
      ],
      "text/plain": [
       "             SGD_lasso        RF       SVM       XGB        NB\n",
       "AdaEnsemble   0.903509  0.956140  0.447368  0.925439  0.916667\n",
       "AdaSingle     0.903509  0.938596  0.385965  0.929825  0.934211\n",
       "Baseline      0.859649  0.894737  0.478070  0.929825  0.912281\n",
       "Original      0.649123  0.969298  0.644737  0.947368  0.938596"
      ]
     },
     "execution_count": 6,
     "metadata": {},
     "output_type": "execute_result"
    }
   ],
   "source": [
    "clf_res = {}\n",
    "with warnings.catch_warnings():\n",
    "    warnings.simplefilter(\"ignore\")\n",
    "    for name, clf in [(\"SGD_lasso\", SGDClassifier(loss=\"log\", penalty=\"l1\")),\n",
    "                      (\"RF\", RandomForestClassifier()),\n",
    "                      (\"SVM\", SVC(probability=True)),\n",
    "                      (\"XGB\", XGBClassifier()),\n",
    "                      (\"NB\", GaussianNB())]:\n",
    "        print(name)\n",
    "        clf_res[name] = {}\n",
    "        ada = AdaSample(clone(clf))\n",
    "        ada.fit(X_train, y_PU_train, C=10, sampleFactor=SampFrac)\n",
    "        probas = ada.predict_proba(X_test, single=True)[:, 1]\n",
    "        clf_res[name][\"AdaSingle\"] = accuracy_score(y_test, (probas > 0.5).astype(np.int))\n",
    "\n",
    "        probas = ada.predict_proba(X_test)[:, 1]\n",
    "        clf_res[name][\"AdaEnsemble\"] = accuracy_score(y_test, (probas > 0.5).astype(np.int))\n",
    "\n",
    "        naive_clf = clone(clf)\n",
    "        naive_clf.fit(X_train, y_train)\n",
    "        clf_res[name][\"Original\"] = naive_clf.score(X_test, y_test)\n",
    "\n",
    "        uNeg_clf = clone(clf)\n",
    "        uNeg_clf.fit(X_train, y_PU_train)\n",
    "        clf_res[name][\"Baseline\"] = uNeg_clf.score(X_test, y_test)\n",
    "pd.DataFrame.from_dict(clf_res)"
   ]
  }
 ],
 "metadata": {
  "kernelspec": {
   "display_name": "Python 3",
   "language": "python",
   "name": "python3"
  },
  "language_info": {
   "codemirror_mode": {
    "name": "ipython",
    "version": 3
   },
   "file_extension": ".py",
   "mimetype": "text/x-python",
   "name": "python",
   "nbconvert_exporter": "python",
   "pygments_lexer": "ipython3",
   "version": "3.6.7"
  },
  "toc": {
   "base_numbering": 1,
   "nav_menu": {},
   "number_sections": true,
   "sideBar": true,
   "skip_h1_title": false,
   "title_cell": "Table of Contents",
   "title_sidebar": "Contents",
   "toc_cell": false,
   "toc_position": {},
   "toc_section_display": true,
   "toc_window_display": false
  },
  "varInspector": {
   "cols": {
    "lenName": 16,
    "lenType": 16,
    "lenVar": 40
   },
   "kernels_config": {
    "python": {
     "delete_cmd_postfix": "",
     "delete_cmd_prefix": "del ",
     "library": "var_list.py",
     "varRefreshCmd": "print(var_dic_list())"
    },
    "r": {
     "delete_cmd_postfix": ") ",
     "delete_cmd_prefix": "rm(",
     "library": "var_list.r",
     "varRefreshCmd": "cat(var_dic_list()) "
    }
   },
   "types_to_exclude": [
    "module",
    "function",
    "builtin_function_or_method",
    "instance",
    "_Feature"
   ],
   "window_display": false
  }
 },
 "nbformat": 4,
 "nbformat_minor": 2
}

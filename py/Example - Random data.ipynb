{
 "cells": [
  {
   "cell_type": "code",
   "execution_count": 1,
   "metadata": {
    "ExecuteTime": {
     "end_time": "2018-12-25T17:59:58.698375Z",
     "start_time": "2018-12-25T17:59:58.161335Z"
    }
   },
   "outputs": [],
   "source": [
    "import numpy as np\n",
    "import pandas as pd\n",
    "from sklearn import datasets\n",
    "from sklearn.base import clone\n",
    "from sklearn.ensemble import RandomForestClassifier\n",
    "from sklearn.metrics import accuracy_score\n",
    "from sklearn.naive_bayes import GaussianNB\n",
    "from sklearn.svm import SVC\n",
    "from sklearn.linear_model import SGDClassifier\n",
    "from xgboost import XGBClassifier\n",
    "import warnings\n",
    "\n",
    "from AdaSample import AdaSample"
   ]
  },
  {
   "cell_type": "code",
   "execution_count": 2,
   "metadata": {
    "ExecuteTime": {
     "end_time": "2018-12-25T17:59:58.847952Z",
     "start_time": "2018-12-25T17:59:58.700293Z"
    }
   },
   "outputs": [],
   "source": [
    "HideFrac = 0.8\n",
    "TrainFrac = 0.6\n",
    "N = 200000\n",
    "\n",
    "SampFrac = 0.1 #Subsampling of training data when preforming Adasampling\n",
    "NBoosts = 50 #Number of AdaSampling rounds\n",
    "\n",
    "X, y = datasets.make_classification(N, 10, 5)"
   ]
  },
  {
   "cell_type": "code",
   "execution_count": 3,
   "metadata": {
    "ExecuteTime": {
     "end_time": "2018-12-25T17:59:58.891473Z",
     "start_time": "2018-12-25T17:59:58.849904Z"
    }
   },
   "outputs": [],
   "source": [
    "y_PU = np.copy(y)\n",
    "Ps = np.where(y_PU == 1)[0]\n",
    "y_PU[np.random.choice(Ps, int(np.floor(len(Ps) * HideFrac)))] = 0\n",
    "\n",
    "inds = np.random.permutation(X.shape[0])\n",
    "train_inds, test_inds = inds[:int(N * TrainFrac)], inds[int(N * TrainFrac):]\n",
    "\n",
    "X_train, X_test = X[train_inds, :], X[test_inds, :]\n",
    "y_train, y_test = y[train_inds], y[test_inds]\n",
    "y_PU_train, y_PU_test = y_PU[train_inds], y_PU[test_inds]"
   ]
  },
  {
   "cell_type": "code",
   "execution_count": 4,
   "metadata": {
    "ExecuteTime": {
     "end_time": "2018-12-25T18:05:06.866698Z",
     "start_time": "2018-12-25T17:59:58.893241Z"
    }
   },
   "outputs": [
    {
     "name": "stderr",
     "output_type": "stream",
     "text": [
      "  6%|▌         | 3/50 [00:00<00:01, 28.97it/s]"
     ]
    },
    {
     "name": "stdout",
     "output_type": "stream",
     "text": [
      "SGD_lasso\n",
      "Training AdaSamples..\n"
     ]
    },
    {
     "name": "stderr",
     "output_type": "stream",
     "text": [
      "100%|██████████| 50/50 [00:01<00:00, 36.37it/s]\n",
      "  0%|          | 0/10 [00:00<?, ?it/s]"
     ]
    },
    {
     "name": "stdout",
     "output_type": "stream",
     "text": [
      "Training 10 Classifiers\n"
     ]
    },
    {
     "name": "stderr",
     "output_type": "stream",
     "text": [
      "100%|██████████| 10/10 [00:03<00:00,  3.09it/s]\n",
      "  0%|          | 0/50 [00:00<?, ?it/s]"
     ]
    },
    {
     "name": "stdout",
     "output_type": "stream",
     "text": [
      "RF\n",
      "Training AdaSamples..\n"
     ]
    },
    {
     "name": "stderr",
     "output_type": "stream",
     "text": [
      "100%|██████████| 50/50 [00:25<00:00,  1.99it/s]\n",
      "  0%|          | 0/10 [00:00<?, ?it/s]"
     ]
    },
    {
     "name": "stdout",
     "output_type": "stream",
     "text": [
      "Training 10 Classifiers\n"
     ]
    },
    {
     "name": "stderr",
     "output_type": "stream",
     "text": [
      "100%|██████████| 10/10 [01:01<00:00,  6.12s/it]\n",
      " 14%|█▍        | 7/50 [00:00<00:00, 66.29it/s]"
     ]
    },
    {
     "name": "stdout",
     "output_type": "stream",
     "text": [
      "SGD_SVM\n",
      "Training AdaSamples..\n"
     ]
    },
    {
     "name": "stderr",
     "output_type": "stream",
     "text": [
      "100%|██████████| 50/50 [00:00<00:00, 68.52it/s]\n",
      " 10%|█         | 1/10 [00:00<00:01,  5.14it/s]"
     ]
    },
    {
     "name": "stdout",
     "output_type": "stream",
     "text": [
      "Training 10 Classifiers\n"
     ]
    },
    {
     "name": "stderr",
     "output_type": "stream",
     "text": [
      "100%|██████████| 10/10 [00:01<00:00,  5.12it/s]\n",
      "  0%|          | 0/50 [00:00<?, ?it/s]"
     ]
    },
    {
     "name": "stdout",
     "output_type": "stream",
     "text": [
      "XGB\n",
      "Training AdaSamples..\n"
     ]
    },
    {
     "name": "stderr",
     "output_type": "stream",
     "text": [
      "100%|██████████| 50/50 [01:00<00:00,  1.21s/it]\n",
      "  0%|          | 0/10 [00:00<?, ?it/s]"
     ]
    },
    {
     "name": "stdout",
     "output_type": "stream",
     "text": [
      "Training 10 Classifiers\n"
     ]
    },
    {
     "name": "stderr",
     "output_type": "stream",
     "text": [
      "100%|██████████| 10/10 [01:59<00:00, 11.92s/it]\n",
      "  6%|▌         | 3/50 [00:00<00:01, 29.66it/s]"
     ]
    },
    {
     "name": "stdout",
     "output_type": "stream",
     "text": [
      "NB\n",
      "Training AdaSamples..\n"
     ]
    },
    {
     "name": "stderr",
     "output_type": "stream",
     "text": [
      "100%|██████████| 50/50 [00:01<00:00, 29.86it/s]\n",
      " 20%|██        | 2/10 [00:00<00:00, 11.18it/s]"
     ]
    },
    {
     "name": "stdout",
     "output_type": "stream",
     "text": [
      "Training 10 Classifiers\n"
     ]
    },
    {
     "name": "stderr",
     "output_type": "stream",
     "text": [
      "100%|██████████| 10/10 [00:00<00:00, 11.13it/s]\n"
     ]
    },
    {
     "data": {
      "text/html": [
       "<div>\n",
       "<style scoped>\n",
       "    .dataframe tbody tr th:only-of-type {\n",
       "        vertical-align: middle;\n",
       "    }\n",
       "\n",
       "    .dataframe tbody tr th {\n",
       "        vertical-align: top;\n",
       "    }\n",
       "\n",
       "    .dataframe thead th {\n",
       "        text-align: right;\n",
       "    }\n",
       "</style>\n",
       "<table border=\"1\" class=\"dataframe\">\n",
       "  <thead>\n",
       "    <tr style=\"text-align: right;\">\n",
       "      <th></th>\n",
       "      <th>SGD_lasso</th>\n",
       "      <th>RF</th>\n",
       "      <th>SGD_SVM</th>\n",
       "      <th>XGB</th>\n",
       "      <th>NB</th>\n",
       "    </tr>\n",
       "  </thead>\n",
       "  <tbody>\n",
       "    <tr>\n",
       "      <th>Naive_clf</th>\n",
       "      <td>0.911850</td>\n",
       "      <td>0.971200</td>\n",
       "      <td>0.889700</td>\n",
       "      <td>0.955788</td>\n",
       "      <td>0.885613</td>\n",
       "    </tr>\n",
       "    <tr>\n",
       "      <th>PU_ensemble</th>\n",
       "      <td>0.887525</td>\n",
       "      <td>0.931550</td>\n",
       "      <td>0.846988</td>\n",
       "      <td>0.941588</td>\n",
       "      <td>0.866175</td>\n",
       "    </tr>\n",
       "    <tr>\n",
       "      <th>PU_single</th>\n",
       "      <td>0.887687</td>\n",
       "      <td>0.883100</td>\n",
       "      <td>0.847562</td>\n",
       "      <td>0.940813</td>\n",
       "      <td>0.866413</td>\n",
       "    </tr>\n",
       "    <tr>\n",
       "      <th>uNeg_clf</th>\n",
       "      <td>0.521850</td>\n",
       "      <td>0.616237</td>\n",
       "      <td>0.794450</td>\n",
       "      <td>0.504687</td>\n",
       "      <td>0.766300</td>\n",
       "    </tr>\n",
       "  </tbody>\n",
       "</table>\n",
       "</div>"
      ],
      "text/plain": [
       "             SGD_lasso        RF   SGD_SVM       XGB        NB\n",
       "Naive_clf     0.911850  0.971200  0.889700  0.955788  0.885613\n",
       "PU_ensemble   0.887525  0.931550  0.846988  0.941588  0.866175\n",
       "PU_single     0.887687  0.883100  0.847562  0.940813  0.866413\n",
       "uNeg_clf      0.521850  0.616237  0.794450  0.504687  0.766300"
      ]
     },
     "execution_count": 4,
     "metadata": {},
     "output_type": "execute_result"
    }
   ],
   "source": [
    "clf_res = {}\n",
    "with warnings.catch_warnings():\n",
    "    warnings.simplefilter(\"ignore\")\n",
    "    for name, clf in [(\"SGD_lasso\", SGDClassifier(loss=\"log\", penalty=\"l1\")),\n",
    "                      (\"RF\", RandomForestClassifier()),\n",
    "                      (\"SGD_SVM\", SGDClassifier(loss=\"modified_huber\")),\n",
    "                      (\"XGB\", XGBClassifier()),\n",
    "                      (\"NB\", GaussianNB())]:\n",
    "        print(name)\n",
    "        clf_res[name] = {}\n",
    "        ada = AdaSample(clone(clf))\n",
    "        ada.fit(X_train, y_PU_train, C=10, samp_frac=SampFrac, n_boost=NBoosts)\n",
    "        probas = ada.predict_proba(X_test, single=True)[:, 1]\n",
    "        clf_res[name][\"PU_single\"] = accuracy_score(y_test, (probas > 0.5).astype(np.int))\n",
    "\n",
    "        probas = ada.predict_proba(X_test)[:, 1]\n",
    "        clf_res[name][\"PU_ensemble\"] = accuracy_score(y_test, (probas > 0.5).astype(np.int))\n",
    "\n",
    "        naive_clf = clone(clf)\n",
    "        naive_clf.fit(X_train, y_train)\n",
    "        clf_res[name][\"Naive_clf\"] = naive_clf.score(X_test, y_test)\n",
    "\n",
    "        uNeg_clf = clone(clf)\n",
    "        uNeg_clf.fit(X_train, y_PU_train)\n",
    "        clf_res[name][\"uNeg_clf\"] = uNeg_clf.score(X_test, y_test)\n",
    "        \n",
    "pd.DataFrame.from_dict(clf_res)"
   ]
  },
  {
   "cell_type": "code",
   "execution_count": 5,
   "metadata": {
    "ExecuteTime": {
     "end_time": "2018-12-25T18:05:06.911012Z",
     "start_time": "2018-12-25T18:05:06.868317Z"
    }
   },
   "outputs": [],
   "source": [
    "HideFrac=0.2\n",
    "\n",
    "y_PU = np.copy(y)\n",
    "Ps = np.where(y_PU == 1)[0]\n",
    "y_PU[np.random.choice(Ps, int(np.floor(len(Ps) * HideFrac)))] = 0\n",
    "\n",
    "inds = np.random.permutation(X.shape[0])\n",
    "train_inds, test_inds = inds[:int(N * TrainFrac)], inds[int(N * TrainFrac):]\n",
    "\n",
    "X_train, X_test = X[train_inds, :], X[test_inds, :]\n",
    "y_train, y_test = y[train_inds], y[test_inds]\n",
    "y_PU_train, y_PU_test = y_PU[train_inds], y_PU[test_inds]"
   ]
  },
  {
   "cell_type": "code",
   "execution_count": 6,
   "metadata": {
    "ExecuteTime": {
     "end_time": "2018-12-25T18:09:24.719414Z",
     "start_time": "2018-12-25T18:05:06.912780Z"
    }
   },
   "outputs": [
    {
     "name": "stderr",
     "output_type": "stream",
     "text": [
      " 10%|█         | 5/50 [00:00<00:01, 42.98it/s]"
     ]
    },
    {
     "name": "stdout",
     "output_type": "stream",
     "text": [
      "SGD_lasso\n",
      "Training AdaSamples..\n"
     ]
    },
    {
     "name": "stderr",
     "output_type": "stream",
     "text": [
      "100%|██████████| 50/50 [00:01<00:00, 44.70it/s]\n",
      "  0%|          | 0/10 [00:00<?, ?it/s]"
     ]
    },
    {
     "name": "stdout",
     "output_type": "stream",
     "text": [
      "Training 10 Classifiers\n"
     ]
    },
    {
     "name": "stderr",
     "output_type": "stream",
     "text": [
      "100%|██████████| 10/10 [00:02<00:00,  4.16it/s]\n",
      "  0%|          | 0/50 [00:00<?, ?it/s]"
     ]
    },
    {
     "name": "stdout",
     "output_type": "stream",
     "text": [
      "RF\n",
      "Training AdaSamples..\n"
     ]
    },
    {
     "name": "stderr",
     "output_type": "stream",
     "text": [
      "100%|██████████| 50/50 [00:17<00:00,  2.79it/s]\n",
      "  0%|          | 0/10 [00:00<?, ?it/s]"
     ]
    },
    {
     "name": "stdout",
     "output_type": "stream",
     "text": [
      "Training 10 Classifiers\n"
     ]
    },
    {
     "name": "stderr",
     "output_type": "stream",
     "text": [
      "100%|██████████| 10/10 [00:43<00:00,  4.32s/it]\n",
      " 16%|█▌        | 8/50 [00:00<00:00, 76.69it/s]"
     ]
    },
    {
     "name": "stdout",
     "output_type": "stream",
     "text": [
      "SGD_SVM\n",
      "Training AdaSamples..\n"
     ]
    },
    {
     "name": "stderr",
     "output_type": "stream",
     "text": [
      "100%|██████████| 50/50 [00:00<00:00, 74.53it/s]\n",
      " 10%|█         | 1/10 [00:00<00:01,  6.99it/s]"
     ]
    },
    {
     "name": "stdout",
     "output_type": "stream",
     "text": [
      "Training 10 Classifiers\n"
     ]
    },
    {
     "name": "stderr",
     "output_type": "stream",
     "text": [
      "100%|██████████| 10/10 [00:01<00:00,  6.93it/s]\n",
      "  0%|          | 0/50 [00:00<?, ?it/s]"
     ]
    },
    {
     "name": "stdout",
     "output_type": "stream",
     "text": [
      "XGB\n",
      "Training AdaSamples..\n"
     ]
    },
    {
     "name": "stderr",
     "output_type": "stream",
     "text": [
      "100%|██████████| 50/50 [00:55<00:00,  1.11s/it]\n",
      "  0%|          | 0/10 [00:00<?, ?it/s]"
     ]
    },
    {
     "name": "stdout",
     "output_type": "stream",
     "text": [
      "Training 10 Classifiers\n"
     ]
    },
    {
     "name": "stderr",
     "output_type": "stream",
     "text": [
      "100%|██████████| 10/10 [01:39<00:00,  9.98s/it]\n",
      "  8%|▊         | 4/50 [00:00<00:01, 32.25it/s]"
     ]
    },
    {
     "name": "stdout",
     "output_type": "stream",
     "text": [
      "NB\n",
      "Training AdaSamples..\n"
     ]
    },
    {
     "name": "stderr",
     "output_type": "stream",
     "text": [
      "100%|██████████| 50/50 [00:01<00:00, 31.48it/s]\n",
      " 20%|██        | 2/10 [00:00<00:00, 13.49it/s]"
     ]
    },
    {
     "name": "stdout",
     "output_type": "stream",
     "text": [
      "Training 10 Classifiers\n"
     ]
    },
    {
     "name": "stderr",
     "output_type": "stream",
     "text": [
      "100%|██████████| 10/10 [00:00<00:00, 13.35it/s]\n"
     ]
    },
    {
     "data": {
      "text/html": [
       "<div>\n",
       "<style scoped>\n",
       "    .dataframe tbody tr th:only-of-type {\n",
       "        vertical-align: middle;\n",
       "    }\n",
       "\n",
       "    .dataframe tbody tr th {\n",
       "        vertical-align: top;\n",
       "    }\n",
       "\n",
       "    .dataframe thead th {\n",
       "        text-align: right;\n",
       "    }\n",
       "</style>\n",
       "<table border=\"1\" class=\"dataframe\">\n",
       "  <thead>\n",
       "    <tr style=\"text-align: right;\">\n",
       "      <th></th>\n",
       "      <th>SGD_lasso</th>\n",
       "      <th>RF</th>\n",
       "      <th>SGD_SVM</th>\n",
       "      <th>XGB</th>\n",
       "      <th>NB</th>\n",
       "    </tr>\n",
       "  </thead>\n",
       "  <tbody>\n",
       "    <tr>\n",
       "      <th>Naive_clf</th>\n",
       "      <td>0.911288</td>\n",
       "      <td>0.970063</td>\n",
       "      <td>0.864925</td>\n",
       "      <td>0.954900</td>\n",
       "      <td>0.883875</td>\n",
       "    </tr>\n",
       "    <tr>\n",
       "      <th>PU_ensemble</th>\n",
       "      <td>0.908900</td>\n",
       "      <td>0.963163</td>\n",
       "      <td>0.903687</td>\n",
       "      <td>0.948350</td>\n",
       "      <td>0.866962</td>\n",
       "    </tr>\n",
       "    <tr>\n",
       "      <th>PU_single</th>\n",
       "      <td>0.909000</td>\n",
       "      <td>0.961500</td>\n",
       "      <td>0.904262</td>\n",
       "      <td>0.947887</td>\n",
       "      <td>0.867200</td>\n",
       "    </tr>\n",
       "    <tr>\n",
       "      <th>uNeg_clf</th>\n",
       "      <td>0.900000</td>\n",
       "      <td>0.934375</td>\n",
       "      <td>0.596575</td>\n",
       "      <td>0.952562</td>\n",
       "      <td>0.869775</td>\n",
       "    </tr>\n",
       "  </tbody>\n",
       "</table>\n",
       "</div>"
      ],
      "text/plain": [
       "             SGD_lasso        RF   SGD_SVM       XGB        NB\n",
       "Naive_clf     0.911288  0.970063  0.864925  0.954900  0.883875\n",
       "PU_ensemble   0.908900  0.963163  0.903687  0.948350  0.866962\n",
       "PU_single     0.909000  0.961500  0.904262  0.947887  0.867200\n",
       "uNeg_clf      0.900000  0.934375  0.596575  0.952562  0.869775"
      ]
     },
     "execution_count": 6,
     "metadata": {},
     "output_type": "execute_result"
    }
   ],
   "source": [
    "clf_res = {}\n",
    "with warnings.catch_warnings():\n",
    "    warnings.simplefilter(\"ignore\")\n",
    "    for name, clf in [(\"SGD_lasso\", SGDClassifier(loss=\"log\", penalty=\"l1\")),\n",
    "                      (\"RF\", RandomForestClassifier()),\n",
    "                      (\"SGD_SVM\", SGDClassifier(loss=\"modified_huber\")),\n",
    "                      (\"XGB\", XGBClassifier()),\n",
    "                      (\"NB\", GaussianNB())]:\n",
    "        print(name)\n",
    "        clf_res[name] = {}\n",
    "        ada = AdaSample(clone(clf))\n",
    "        ada.fit(X_train, y_PU_train, C=10, samp_frac=SampFrac, n_boost=NBoosts)\n",
    "        probas = ada.predict_proba(X_test, single=True)[:, 1]\n",
    "        clf_res[name][\"PU_single\"] = accuracy_score(y_test, (probas > 0.5).astype(np.int))\n",
    "\n",
    "        probas = ada.predict_proba(X_test)[:, 1]\n",
    "        clf_res[name][\"PU_ensemble\"] = accuracy_score(y_test, (probas > 0.5).astype(np.int))\n",
    "\n",
    "        naive_clf = clone(clf)\n",
    "        naive_clf.fit(X_train, y_train)\n",
    "        clf_res[name][\"Naive_clf\"] = naive_clf.score(X_test, y_test)\n",
    "\n",
    "        uNeg_clf = clone(clf)\n",
    "        uNeg_clf.fit(X_train, y_PU_train)\n",
    "        clf_res[name][\"uNeg_clf\"] = uNeg_clf.score(X_test, y_test)\n",
    "\n",
    "pd.DataFrame.from_dict(clf_res)"
   ]
  },
  {
   "cell_type": "code",
   "execution_count": null,
   "metadata": {},
   "outputs": [],
   "source": []
  }
 ],
 "metadata": {
  "kernelspec": {
   "display_name": "Python 3",
   "language": "python",
   "name": "python3"
  },
  "language_info": {
   "codemirror_mode": {
    "name": "ipython",
    "version": 3
   },
   "file_extension": ".py",
   "mimetype": "text/x-python",
   "name": "python",
   "nbconvert_exporter": "python",
   "pygments_lexer": "ipython3",
   "version": "3.6.7"
  },
  "toc": {
   "base_numbering": 1,
   "nav_menu": {},
   "number_sections": true,
   "sideBar": true,
   "skip_h1_title": false,
   "title_cell": "Table of Contents",
   "title_sidebar": "Contents",
   "toc_cell": false,
   "toc_position": {},
   "toc_section_display": true,
   "toc_window_display": false
  },
  "varInspector": {
   "cols": {
    "lenName": 16,
    "lenType": 16,
    "lenVar": 40
   },
   "kernels_config": {
    "python": {
     "delete_cmd_postfix": "",
     "delete_cmd_prefix": "del ",
     "library": "var_list.py",
     "varRefreshCmd": "print(var_dic_list())"
    },
    "r": {
     "delete_cmd_postfix": ") ",
     "delete_cmd_prefix": "rm(",
     "library": "var_list.r",
     "varRefreshCmd": "cat(var_dic_list()) "
    }
   },
   "types_to_exclude": [
    "module",
    "function",
    "builtin_function_or_method",
    "instance",
    "_Feature"
   ],
   "window_display": false
  }
 },
 "nbformat": 4,
 "nbformat_minor": 2
}

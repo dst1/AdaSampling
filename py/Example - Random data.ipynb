{
 "cells": [
  {
   "cell_type": "code",
   "execution_count": 1,
   "metadata": {
    "ExecuteTime": {
     "end_time": "2018-12-25T18:46:21.237170Z",
     "start_time": "2018-12-25T18:46:20.729316Z"
    }
   },
   "outputs": [],
   "source": [
    "import numpy as np\n",
    "import pandas as pd\n",
    "from sklearn import datasets\n",
    "from sklearn.base import clone\n",
    "from sklearn.ensemble import RandomForestClassifier\n",
    "from sklearn.metrics import accuracy_score\n",
    "from sklearn.naive_bayes import GaussianNB\n",
    "from sklearn.svm import SVC\n",
    "from sklearn.linear_model import SGDClassifier\n",
    "from xgboost import XGBClassifier\n",
    "import warnings\n",
    "\n",
    "from AdaSample import AdaSample"
   ]
  },
  {
   "cell_type": "code",
   "execution_count": 2,
   "metadata": {
    "ExecuteTime": {
     "end_time": "2018-12-25T18:46:21.389103Z",
     "start_time": "2018-12-25T18:46:21.238654Z"
    }
   },
   "outputs": [],
   "source": [
    "HideFrac = 0.8\n",
    "TrainFrac = 0.6\n",
    "N = 200000\n",
    "\n",
    "SampFrac = 0.1 #Subsampling of training data when preforming Adasampling\n",
    "NBoosts = 50 #Number of AdaSampling rounds\n",
    "\n",
    "X, y = datasets.make_classification(N, 10, 5)"
   ]
  },
  {
   "cell_type": "code",
   "execution_count": 3,
   "metadata": {
    "ExecuteTime": {
     "end_time": "2018-12-25T18:46:21.435002Z",
     "start_time": "2018-12-25T18:46:21.391213Z"
    }
   },
   "outputs": [],
   "source": [
    "y_PU = np.copy(y)\n",
    "Ps = np.where(y_PU == 1)[0]\n",
    "y_PU[np.random.choice(Ps, int(np.floor(len(Ps) * HideFrac)))] = 0\n",
    "\n",
    "inds = np.random.permutation(X.shape[0])\n",
    "train_inds, test_inds = inds[:int(N * TrainFrac)], inds[int(N * TrainFrac):]\n",
    "\n",
    "X_train, X_test = X[train_inds, :], X[test_inds, :]\n",
    "y_train, y_test = y[train_inds], y[test_inds]\n",
    "y_PU_train, y_PU_test = y_PU[train_inds], y_PU[test_inds]"
   ]
  },
  {
   "cell_type": "code",
   "execution_count": 4,
   "metadata": {
    "ExecuteTime": {
     "end_time": "2018-12-25T18:51:52.706700Z",
     "start_time": "2018-12-25T18:46:21.436772Z"
    }
   },
   "outputs": [
    {
     "name": "stderr",
     "output_type": "stream",
     "text": [
      "  6%|▌         | 3/50 [00:00<00:01, 25.95it/s]"
     ]
    },
    {
     "name": "stdout",
     "output_type": "stream",
     "text": [
      "SGD_lasso\n",
      "Training AdaSamples..\n"
     ]
    },
    {
     "name": "stderr",
     "output_type": "stream",
     "text": [
      "100%|██████████| 50/50 [00:01<00:00, 31.99it/s]\n",
      "  0%|          | 0/10 [00:00<?, ?it/s]"
     ]
    },
    {
     "name": "stdout",
     "output_type": "stream",
     "text": [
      "Training 10 Classifiers\n"
     ]
    },
    {
     "name": "stderr",
     "output_type": "stream",
     "text": [
      "100%|██████████| 10/10 [00:03<00:00,  3.17it/s]\n",
      "  0%|          | 0/50 [00:00<?, ?it/s]"
     ]
    },
    {
     "name": "stdout",
     "output_type": "stream",
     "text": [
      "RF\n",
      "Training AdaSamples..\n"
     ]
    },
    {
     "name": "stderr",
     "output_type": "stream",
     "text": [
      "100%|██████████| 50/50 [00:31<00:00,  1.58it/s]\n",
      "  0%|          | 0/10 [00:00<?, ?it/s]"
     ]
    },
    {
     "name": "stdout",
     "output_type": "stream",
     "text": [
      "Training 10 Classifiers\n"
     ]
    },
    {
     "name": "stderr",
     "output_type": "stream",
     "text": [
      "100%|██████████| 10/10 [01:03<00:00,  6.35s/it]\n",
      " 12%|█▏        | 6/50 [00:00<00:00, 55.04it/s]"
     ]
    },
    {
     "name": "stdout",
     "output_type": "stream",
     "text": [
      "SGD_SVM\n",
      "Training AdaSamples..\n"
     ]
    },
    {
     "name": "stderr",
     "output_type": "stream",
     "text": [
      "100%|██████████| 50/50 [00:00<00:00, 54.92it/s]\n",
      " 10%|█         | 1/10 [00:00<00:01,  5.30it/s]"
     ]
    },
    {
     "name": "stdout",
     "output_type": "stream",
     "text": [
      "Training 10 Classifiers\n"
     ]
    },
    {
     "name": "stderr",
     "output_type": "stream",
     "text": [
      "100%|██████████| 10/10 [00:01<00:00,  5.40it/s]\n",
      "  0%|          | 0/50 [00:00<?, ?it/s]"
     ]
    },
    {
     "name": "stdout",
     "output_type": "stream",
     "text": [
      "XGB\n",
      "Training AdaSamples..\n"
     ]
    },
    {
     "name": "stderr",
     "output_type": "stream",
     "text": [
      "100%|██████████| 50/50 [01:11<00:00,  1.42s/it]\n",
      "  0%|          | 0/10 [00:00<?, ?it/s]"
     ]
    },
    {
     "name": "stdout",
     "output_type": "stream",
     "text": [
      "Training 10 Classifiers\n"
     ]
    },
    {
     "name": "stderr",
     "output_type": "stream",
     "text": [
      "100%|██████████| 10/10 [02:02<00:00, 12.27s/it]\n",
      "  6%|▌         | 3/50 [00:00<00:01, 25.18it/s]"
     ]
    },
    {
     "name": "stdout",
     "output_type": "stream",
     "text": [
      "NB\n",
      "Training AdaSamples..\n"
     ]
    },
    {
     "name": "stderr",
     "output_type": "stream",
     "text": [
      "100%|██████████| 50/50 [00:01<00:00, 25.97it/s]\n",
      " 10%|█         | 1/10 [00:00<00:00,  9.55it/s]"
     ]
    },
    {
     "name": "stdout",
     "output_type": "stream",
     "text": [
      "Training 10 Classifiers\n"
     ]
    },
    {
     "name": "stderr",
     "output_type": "stream",
     "text": [
      "100%|██████████| 10/10 [00:00<00:00, 10.41it/s]\n"
     ]
    },
    {
     "data": {
      "text/html": [
       "<div>\n",
       "<style scoped>\n",
       "    .dataframe tbody tr th:only-of-type {\n",
       "        vertical-align: middle;\n",
       "    }\n",
       "\n",
       "    .dataframe tbody tr th {\n",
       "        vertical-align: top;\n",
       "    }\n",
       "\n",
       "    .dataframe thead th {\n",
       "        text-align: right;\n",
       "    }\n",
       "</style>\n",
       "<table border=\"1\" class=\"dataframe\">\n",
       "  <thead>\n",
       "    <tr style=\"text-align: right;\">\n",
       "      <th></th>\n",
       "      <th>SGD_lasso</th>\n",
       "      <th>RF</th>\n",
       "      <th>SGD_SVM</th>\n",
       "      <th>XGB</th>\n",
       "      <th>NB</th>\n",
       "    </tr>\n",
       "  </thead>\n",
       "  <tbody>\n",
       "    <tr>\n",
       "      <th>AdaEnsemble</th>\n",
       "      <td>0.714600</td>\n",
       "      <td>0.939462</td>\n",
       "      <td>0.781175</td>\n",
       "      <td>0.899438</td>\n",
       "      <td>0.669825</td>\n",
       "    </tr>\n",
       "    <tr>\n",
       "      <th>AdaSingle</th>\n",
       "      <td>0.714625</td>\n",
       "      <td>0.927488</td>\n",
       "      <td>0.780963</td>\n",
       "      <td>0.901275</td>\n",
       "      <td>0.669913</td>\n",
       "    </tr>\n",
       "    <tr>\n",
       "      <th>Baseline</th>\n",
       "      <td>0.610363</td>\n",
       "      <td>0.621788</td>\n",
       "      <td>0.533225</td>\n",
       "      <td>0.509563</td>\n",
       "      <td>0.660575</td>\n",
       "    </tr>\n",
       "    <tr>\n",
       "      <th>Original</th>\n",
       "      <td>0.749350</td>\n",
       "      <td>0.970463</td>\n",
       "      <td>0.676162</td>\n",
       "      <td>0.926162</td>\n",
       "      <td>0.691887</td>\n",
       "    </tr>\n",
       "  </tbody>\n",
       "</table>\n",
       "</div>"
      ],
      "text/plain": [
       "             SGD_lasso        RF   SGD_SVM       XGB        NB\n",
       "AdaEnsemble   0.714600  0.939462  0.781175  0.899438  0.669825\n",
       "AdaSingle     0.714625  0.927488  0.780963  0.901275  0.669913\n",
       "Baseline      0.610363  0.621788  0.533225  0.509563  0.660575\n",
       "Original      0.749350  0.970463  0.676162  0.926162  0.691887"
      ]
     },
     "execution_count": 4,
     "metadata": {},
     "output_type": "execute_result"
    }
   ],
   "source": [
    "clf_res = {}\n",
    "with warnings.catch_warnings():\n",
    "    warnings.simplefilter(\"ignore\")\n",
    "    for name, clf in [(\"SGD_lasso\", SGDClassifier(loss=\"log\", penalty=\"l1\")),\n",
    "                      (\"RF\", RandomForestClassifier()),\n",
    "                      (\"SGD_SVM\", SGDClassifier(loss=\"modified_huber\")),\n",
    "                      (\"XGB\", XGBClassifier()),\n",
    "                      (\"NB\", GaussianNB())]:\n",
    "        print(name)\n",
    "        clf_res[name] = {}\n",
    "        ada = AdaSample(clone(clf))\n",
    "        ada.fit(X_train, y_PU_train, C=10, sampleFactor=SampFrac, n_rounds=NBoosts)\n",
    "        probas = ada.predict_proba(X_test, single=True)[:, 1]\n",
    "        clf_res[name][\"AdaSingle\"] = accuracy_score(y_test, (probas > 0.5).astype(np.int))\n",
    "\n",
    "        probas = ada.predict_proba(X_test)[:, 1]\n",
    "        clf_res[name][\"AdaEnsemble\"] = accuracy_score(y_test, (probas > 0.5).astype(np.int))\n",
    "\n",
    "        naive_clf = clone(clf)\n",
    "        naive_clf.fit(X_train, y_train)\n",
    "        clf_res[name][\"Original\"] = naive_clf.score(X_test, y_test)\n",
    "\n",
    "        uNeg_clf = clone(clf)\n",
    "        uNeg_clf.fit(X_train, y_PU_train)\n",
    "        clf_res[name][\"Baseline\"] = uNeg_clf.score(X_test, y_test)\n",
    "        \n",
    "pd.DataFrame.from_dict(clf_res)"
   ]
  },
  {
   "cell_type": "code",
   "execution_count": 5,
   "metadata": {
    "ExecuteTime": {
     "end_time": "2018-12-25T18:51:52.734942Z",
     "start_time": "2018-12-25T18:51:52.708248Z"
    }
   },
   "outputs": [],
   "source": [
    "HideFrac=0.2\n",
    "\n",
    "y_PU = np.copy(y)\n",
    "Ps = np.where(y_PU == 1)[0]\n",
    "y_PU[np.random.choice(Ps, int(np.floor(len(Ps) * HideFrac)))] = 0\n",
    "\n",
    "inds = np.random.permutation(X.shape[0])\n",
    "train_inds, test_inds = inds[:int(N * TrainFrac)], inds[int(N * TrainFrac):]\n",
    "\n",
    "X_train, X_test = X[train_inds, :], X[test_inds, :]\n",
    "y_train, y_test = y[train_inds], y[test_inds]\n",
    "y_PU_train, y_PU_test = y_PU[train_inds], y_PU[test_inds]"
   ]
  },
  {
   "cell_type": "code",
   "execution_count": 6,
   "metadata": {
    "ExecuteTime": {
     "end_time": "2018-12-25T18:56:22.211204Z",
     "start_time": "2018-12-25T18:51:52.737475Z"
    }
   },
   "outputs": [
    {
     "name": "stderr",
     "output_type": "stream",
     "text": [
      "  8%|▊         | 4/50 [00:00<00:01, 32.25it/s]"
     ]
    },
    {
     "name": "stdout",
     "output_type": "stream",
     "text": [
      "SGD_lasso\n",
      "Training AdaSamples..\n"
     ]
    },
    {
     "name": "stderr",
     "output_type": "stream",
     "text": [
      "100%|██████████| 50/50 [00:01<00:00, 40.21it/s]\n",
      "  0%|          | 0/10 [00:00<?, ?it/s]"
     ]
    },
    {
     "name": "stdout",
     "output_type": "stream",
     "text": [
      "Training 10 Classifiers\n"
     ]
    },
    {
     "name": "stderr",
     "output_type": "stream",
     "text": [
      "100%|██████████| 10/10 [00:02<00:00,  4.30it/s]\n",
      "  0%|          | 0/50 [00:00<?, ?it/s]"
     ]
    },
    {
     "name": "stdout",
     "output_type": "stream",
     "text": [
      "RF\n",
      "Training AdaSamples..\n"
     ]
    },
    {
     "name": "stderr",
     "output_type": "stream",
     "text": [
      "100%|██████████| 50/50 [00:23<00:00,  2.12it/s]\n",
      "  0%|          | 0/10 [00:00<?, ?it/s]"
     ]
    },
    {
     "name": "stdout",
     "output_type": "stream",
     "text": [
      "Training 10 Classifiers\n"
     ]
    },
    {
     "name": "stderr",
     "output_type": "stream",
     "text": [
      "100%|██████████| 10/10 [00:46<00:00,  4.64s/it]\n",
      " 14%|█▍        | 7/50 [00:00<00:00, 61.72it/s]"
     ]
    },
    {
     "name": "stdout",
     "output_type": "stream",
     "text": [
      "SGD_SVM\n",
      "Training AdaSamples..\n"
     ]
    },
    {
     "name": "stderr",
     "output_type": "stream",
     "text": [
      "100%|██████████| 50/50 [00:00<00:00, 62.61it/s]\n",
      " 10%|█         | 1/10 [00:00<00:01,  7.03it/s]"
     ]
    },
    {
     "name": "stdout",
     "output_type": "stream",
     "text": [
      "Training 10 Classifiers\n"
     ]
    },
    {
     "name": "stderr",
     "output_type": "stream",
     "text": [
      "100%|██████████| 10/10 [00:01<00:00,  6.95it/s]\n",
      "  0%|          | 0/50 [00:00<?, ?it/s]"
     ]
    },
    {
     "name": "stdout",
     "output_type": "stream",
     "text": [
      "XGB\n",
      "Training AdaSamples..\n"
     ]
    },
    {
     "name": "stderr",
     "output_type": "stream",
     "text": [
      "100%|██████████| 50/50 [00:57<00:00,  1.15s/it]\n",
      "  0%|          | 0/10 [00:00<?, ?it/s]"
     ]
    },
    {
     "name": "stdout",
     "output_type": "stream",
     "text": [
      "Training 10 Classifiers\n"
     ]
    },
    {
     "name": "stderr",
     "output_type": "stream",
     "text": [
      "100%|██████████| 10/10 [01:41<00:00, 10.19s/it]\n",
      "  6%|▌         | 3/50 [00:00<00:01, 28.91it/s]"
     ]
    },
    {
     "name": "stdout",
     "output_type": "stream",
     "text": [
      "NB\n",
      "Training AdaSamples..\n"
     ]
    },
    {
     "name": "stderr",
     "output_type": "stream",
     "text": [
      "100%|██████████| 50/50 [00:01<00:00, 29.47it/s]\n",
      " 20%|██        | 2/10 [00:00<00:00, 13.69it/s]"
     ]
    },
    {
     "name": "stdout",
     "output_type": "stream",
     "text": [
      "Training 10 Classifiers\n"
     ]
    },
    {
     "name": "stderr",
     "output_type": "stream",
     "text": [
      "100%|██████████| 10/10 [00:00<00:00, 13.68it/s]\n"
     ]
    },
    {
     "data": {
      "text/html": [
       "<div>\n",
       "<style scoped>\n",
       "    .dataframe tbody tr th:only-of-type {\n",
       "        vertical-align: middle;\n",
       "    }\n",
       "\n",
       "    .dataframe tbody tr th {\n",
       "        vertical-align: top;\n",
       "    }\n",
       "\n",
       "    .dataframe thead th {\n",
       "        text-align: right;\n",
       "    }\n",
       "</style>\n",
       "<table border=\"1\" class=\"dataframe\">\n",
       "  <thead>\n",
       "    <tr style=\"text-align: right;\">\n",
       "      <th></th>\n",
       "      <th>SGD_lasso</th>\n",
       "      <th>RF</th>\n",
       "      <th>SGD_SVM</th>\n",
       "      <th>XGB</th>\n",
       "      <th>NB</th>\n",
       "    </tr>\n",
       "  </thead>\n",
       "  <tbody>\n",
       "    <tr>\n",
       "      <th>AdaEnsemble</th>\n",
       "      <td>0.727137</td>\n",
       "      <td>0.960425</td>\n",
       "      <td>0.783537</td>\n",
       "      <td>0.907763</td>\n",
       "      <td>0.666275</td>\n",
       "    </tr>\n",
       "    <tr>\n",
       "      <th>AdaSingle</th>\n",
       "      <td>0.727087</td>\n",
       "      <td>0.955113</td>\n",
       "      <td>0.782212</td>\n",
       "      <td>0.907488</td>\n",
       "      <td>0.666375</td>\n",
       "    </tr>\n",
       "    <tr>\n",
       "      <th>Baseline</th>\n",
       "      <td>0.737300</td>\n",
       "      <td>0.933737</td>\n",
       "      <td>0.545837</td>\n",
       "      <td>0.914713</td>\n",
       "      <td>0.764387</td>\n",
       "    </tr>\n",
       "    <tr>\n",
       "      <th>Original</th>\n",
       "      <td>0.728313</td>\n",
       "      <td>0.970975</td>\n",
       "      <td>0.634550</td>\n",
       "      <td>0.927075</td>\n",
       "      <td>0.689675</td>\n",
       "    </tr>\n",
       "  </tbody>\n",
       "</table>\n",
       "</div>"
      ],
      "text/plain": [
       "             SGD_lasso        RF   SGD_SVM       XGB        NB\n",
       "AdaEnsemble   0.727137  0.960425  0.783537  0.907763  0.666275\n",
       "AdaSingle     0.727087  0.955113  0.782212  0.907488  0.666375\n",
       "Baseline      0.737300  0.933737  0.545837  0.914713  0.764387\n",
       "Original      0.728313  0.970975  0.634550  0.927075  0.689675"
      ]
     },
     "execution_count": 6,
     "metadata": {},
     "output_type": "execute_result"
    }
   ],
   "source": [
    "clf_res = {}\n",
    "with warnings.catch_warnings():\n",
    "    warnings.simplefilter(\"ignore\")\n",
    "    for name, clf in [(\"SGD_lasso\", SGDClassifier(loss=\"log\", penalty=\"l1\")),\n",
    "                      (\"RF\", RandomForestClassifier()),\n",
    "                      (\"SGD_SVM\", SGDClassifier(loss=\"modified_huber\")),\n",
    "                      (\"XGB\", XGBClassifier()),\n",
    "                      (\"NB\", GaussianNB())]:\n",
    "        print(name)\n",
    "        clf_res[name] = {}\n",
    "        ada = AdaSample(clone(clf))\n",
    "        ada.fit(X_train, y_PU_train, C=10, sampleFactor=SampFrac, n_rounds=NBoosts)\n",
    "        probas = ada.predict_proba(X_test, single=True)[:, 1]\n",
    "        clf_res[name][\"AdaSingle\"] = accuracy_score(y_test, (probas > 0.5).astype(np.int))\n",
    "\n",
    "        probas = ada.predict_proba(X_test)[:, 1]\n",
    "        clf_res[name][\"AdaEnsemble\"] = accuracy_score(y_test, (probas > 0.5).astype(np.int))\n",
    "\n",
    "        naive_clf = clone(clf)\n",
    "        naive_clf.fit(X_train, y_train)\n",
    "        clf_res[name][\"Original\"] = naive_clf.score(X_test, y_test)\n",
    "\n",
    "        uNeg_clf = clone(clf)\n",
    "        uNeg_clf.fit(X_train, y_PU_train)\n",
    "        clf_res[name][\"Baseline\"] = uNeg_clf.score(X_test, y_test)\n",
    "\n",
    "pd.DataFrame.from_dict(clf_res)"
   ]
  },
  {
   "cell_type": "code",
   "execution_count": null,
   "metadata": {},
   "outputs": [],
   "source": []
  }
 ],
 "metadata": {
  "kernelspec": {
   "display_name": "Python 3",
   "language": "python",
   "name": "python3"
  },
  "language_info": {
   "codemirror_mode": {
    "name": "ipython",
    "version": 3
   },
   "file_extension": ".py",
   "mimetype": "text/x-python",
   "name": "python",
   "nbconvert_exporter": "python",
   "pygments_lexer": "ipython3",
   "version": "3.6.7"
  },
  "toc": {
   "base_numbering": 1,
   "nav_menu": {},
   "number_sections": true,
   "sideBar": true,
   "skip_h1_title": false,
   "title_cell": "Table of Contents",
   "title_sidebar": "Contents",
   "toc_cell": false,
   "toc_position": {},
   "toc_section_display": true,
   "toc_window_display": false
  },
  "varInspector": {
   "cols": {
    "lenName": 16,
    "lenType": 16,
    "lenVar": 40
   },
   "kernels_config": {
    "python": {
     "delete_cmd_postfix": "",
     "delete_cmd_prefix": "del ",
     "library": "var_list.py",
     "varRefreshCmd": "print(var_dic_list())"
    },
    "r": {
     "delete_cmd_postfix": ") ",
     "delete_cmd_prefix": "rm(",
     "library": "var_list.r",
     "varRefreshCmd": "cat(var_dic_list()) "
    }
   },
   "types_to_exclude": [
    "module",
    "function",
    "builtin_function_or_method",
    "instance",
    "_Feature"
   ],
   "window_display": false
  }
 },
 "nbformat": 4,
 "nbformat_minor": 2
}
